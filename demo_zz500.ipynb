{
 "cells": [
  {
   "cell_type": "markdown",
   "metadata": {},
   "source": [
    "# BackTest——中证500分钟数据策略测试\n",
    "@author: Jerry\n",
    "@contact: lvjy3.15@sem.tsinghua.edu.com\n",
    "@file: demo_zz500.py\n",
    "@time: 2016/5/20 17:47\n",
    "* 在5分钟均线高于十分钟均线0.5元的情况下买入半仓，其他时刻空仓，每隔两分钟判断一次\n",
    "* 测试期 2013-01-01 到2013-03-01 两个月\n",
    "* 手续费偏高"
   ]
  },
  {
   "cell_type": "code",
   "execution_count": 3,
   "metadata": {
    "collapsed": false
   },
   "outputs": [
    {
     "name": "stdout",
     "output_type": "stream",
     "text": [
      "######## Reading data ########\n",
      "2014-01-01\n",
      "2014-03-01\n",
      "Get 8880 obersevations from 2014-01-02 09:31:00 to 2014-02-28 15:00:00\n",
      "########     Done     ########\n",
      "-----------Performance Analysis-------------\n",
      "Sharpe ratio : -50.835\n",
      "Average year return : -1.819\n",
      "Maximum draw down : -0.732\n",
      "Annualized return volatility : 0.036\n"
     ]
    },
    {
     "data": {
      "image/png": "[encoded data removed]",
      "text/plain": [
       "<matplotlib.figure.Figure at 0x13d5d1166a0>"
      ]
     },
     "metadata": {},
     "output_type": "display_data"
    },
    {
     "name": "stdout",
     "output_type": "stream",
     "text": [
      "--------------Rsik Analysis----------------\n",
      "Average PnL : -8249.8\n",
      "Average cash ratio : 0.567\n",
      "Average leverage : 0.433\n",
      "Winning rate : 0.375\n",
      "--------------------End--------------------\n"
     ]
    }
   ],
   "source": [
    "# -*- encoding=utf8 -*-\n",
    "\n",
    "from backtest import BackTest\n",
    "%matplotlib inline\n",
    "\n",
    "\n",
    "class Strategy(BackTest):\n",
    "    def __init__(self,model_name, begin_time, end_time, begin_equity, fee,\n",
    "                path, universe,freq,length, lag,short):\n",
    "        BackTest.__init__(self,model_name, begin_time, end_time, begin_equity, fee,\n",
    "                 path, universe,freq,length, lag,short)\n",
    "\n",
    "    def handle_data(self):\n",
    "        '''\n",
    "        The trade strategy part\n",
    "        :return: none\n",
    "        '''\n",
    "\n",
    "        MA5 = self.strat.MA(5,'close')  # get MA5\n",
    "        MA10 = self.strat.MA(10,'close') # get MA10\n",
    "\n",
    "        if MA5['zz500'] > MA10['zz500'] - 0.5:\n",
    "            self.broker.order_pct_to('zz500',-0.5)\n",
    "        else:\n",
    "            self.broker.order_pct_to('zz500',0.5)\n",
    "\n",
    "def main():\n",
    "    bt = Strategy(model_name='mm',\n",
    "                  begin_time=\"2014-01-01\",\n",
    "                  end_time=\"2014-03-01\",\n",
    "                  path='E:\\\\data',\n",
    "                  universe = 'zz500',\n",
    "                  begin_equity=  100000000,\n",
    "                  fee = 0.002,\n",
    "                  freq =2,\n",
    "                  length=10,\n",
    "                  lag=1,\n",
    "                  short=True)\n",
    "    perf, risk = bt.start()\n",
    "\n",
    "if __name__ == '__main__':\n",
    "    main()"
   ]
  },
  {
   "cell_type": "code",
   "execution_count": null,
   "metadata": {
    "collapsed": true
   },
   "outputs": [],
   "source": []
  }
 ],
 "metadata": {
  "kernelspec": {
   "display_name": "Python 3",
   "language": "python",
   "name": "python3"
  },
  "language_info": {
   "codemirror_mode": {
    "name": "ipython",
    "version": 3
   },
   "file_extension": ".py",
   "mimetype": "text/x-python",
   "name": "python",
   "nbconvert_exporter": "python",
   "pygments_lexer": "ipython3",
   "version": "3.5.1"
  }
 },
 "nbformat": 4,
 "nbformat_minor": 0
}
