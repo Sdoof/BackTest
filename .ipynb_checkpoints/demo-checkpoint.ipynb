{
 "cells": [
  {
   "cell_type": "markdown",
   "metadata": {},
   "source": [
    "# BackTest简单测试\n",
    "@author: Jerry\n",
    "@contact: lvjy3.15@sem.tsinghua.edu.com\n",
    "@file: demo.py\n",
    "@time: 2016/5/19 0:09\n",
    "* 选择每天可交易列表中的排名靠前的50只股票，等权重调仓，调仓频率为5天一次，股票池为所有A股，初始资金为100000000，手续费双边0.002，信息滞后期1\n",
    "* 测试期 2013-01-04 到 2013-04-26"
   ]
  },
  {
   "cell_type": "code",
   "execution_count": null,
   "metadata": {
    "collapsed": true
   },
   "outputs": [],
   "source": [
    "from backtest import BackTest\n",
    "%matplotlib inline"
   ]
  },
  {
   "cell_type": "code",
   "execution_count": null,
   "metadata": {
    "collapsed": false
   },
   "outputs": [],
   "source": [
    "class Strategy(BackTest):\n",
    "\tdef __init__(self,model_name, begin_time, end_time, begin_equity, fee,\n",
    "\t             path, universe,freq,length, lag):\n",
    "\t\tBackTest.__init__(self,model_name, begin_time, end_time, begin_equity, fee,\n",
    "\t             path, universe,freq,length, lag)\n",
    "\n",
    "\tdef handle_data(self):\n",
    "\t\t'''\n",
    "\t\tThe trade strategy part\n",
    "\t\t:return: none\n",
    "\t\t'''\n",
    "\t\tportfolio_value = self.broker.portfolio_value()  # account value\n",
    "\t\tcash = self.broker.get_cash()  # cash available\n",
    "\t\tuniverse = self.broker.get_universe()  # stock can be traded\n",
    "\n",
    "\t\tMA5 = self.strat.MA(5,'close')  # get MA5\n",
    "\t\tMA10 = self.strat.MA(10,'close') # get MA10\n",
    "\t\t# weight = self.broker.get_weight(universe[0])  # get last position weight\n",
    "\t\t# pos = self.broker.get_position(universe[0])  # get last position\n",
    "\n",
    "\t\tbuy_list = universe[0:50]\n",
    "\t\thold_list = [stock for stock in buy_list if stock in universe]\n",
    "\t\t# sell first\n",
    "\t\tfor stock in universe:\n",
    "\t\t\tif stock not in hold_list:\n",
    "\t\t\t\tself.broker.order_to(stock, 0)\n",
    "\n",
    "\t\t# change the position\n",
    "\t\tchange = {}\n",
    "\t\td = len(hold_list)\n",
    "\t\tfor stock in hold_list:\n",
    "\t\t\tweight = self.broker.get_weight(stock)\n",
    "\t\t\tchange[stock] = 1/d-weight\n",
    "\t\t# make the orders\n",
    "\t\tfor stock in sorted(change, key=change.get):\n",
    "\t\t\tself.broker.order_pct_to(stock, change[stock])\n",
    "\n",
    "def main():\n",
    "\tbt = Strategy(model_name='mm',\n",
    "\t              begin_time=\"2013-01-01\",\n",
    "\t              end_time=\"2013-05-01\",\n",
    "\t              path='E:\\\\data',\n",
    "\t              universe = 'allA',\n",
    "\t              begin_equity=  100000000,\n",
    "\t              fee = 0.002,\n",
    "\t              freq =5,\n",
    "\t\t\t\t  length=10,\n",
    "\t\t\t\t  lag=1)\n",
    "\tperf, risk= bt.start()\n",
    "\n",
    "if __name__ == '__main__':\n",
    "\tmain()"
   ]
  },
  {
   "cell_type": "code",
   "execution_count": null,
   "metadata": {
    "collapsed": true
   },
   "outputs": [],
   "source": []
  }
 ],
 "metadata": {
  "kernelspec": {
   "display_name": "Python 3",
   "language": "python",
   "name": "python3"
  },
  "language_info": {
   "codemirror_mode": {
    "name": "ipython",
    "version": 3
   },
   "file_extension": ".py",
   "mimetype": "text/x-python",
   "name": "python",
   "nbconvert_exporter": "python",
   "pygments_lexer": "ipython3",
   "version": "3.5.1"
  }
 },
 "nbformat": 4,
 "nbformat_minor": 0
}
